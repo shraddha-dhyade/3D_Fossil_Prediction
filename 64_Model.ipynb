{
 "cells": [
  {
   "cell_type": "code",
   "execution_count": 1,
   "metadata": {
    "colab": {},
    "colab_type": "code",
    "id": "9Xxur5vheJ3O"
   },
   "outputs": [
    {
     "name": "stderr",
     "output_type": "stream",
     "text": [
      "Using TensorFlow backend.\n"
     ]
    }
   ],
   "source": [
    "import pandas as pd\n",
    "import numpy as np\n",
    "import matplotlib.pyplot as plt\n",
    "import glob\n",
    "import os\n",
    "\n",
    "import tensorflow as tf\n",
    "import keras as keras\n",
    "from keras.models import Sequential, Model\n",
    "from keras.layers import Conv2D, Flatten, Dense, MaxPooling2D , Dropout,Conv3D, MaxPooling3D, Input, Deconv3D, BatchNormalization, Activation, Reshape\n",
    "from keras.utils import to_categorical\n",
    "from keras import optimizers\n",
    "\n",
    "config = tf.ConfigProto()\n",
    "config.gpu_options.allow_growth = True\n",
    "session = tf.Session(config=config)"
   ]
  },
  {
   "cell_type": "code",
   "execution_count": 2,
   "metadata": {
    "colab": {
     "base_uri": "https://localhost:8080/",
     "height": 34
    },
    "colab_type": "code",
    "id": "kvnEnC45oKRN",
    "outputId": "8e5b988d-c085-40ef-b2ea-4df0f32722ce"
   },
   "outputs": [],
   "source": [
    "DATA_PATH = 'DataSet/species_1/'"
   ]
  },
  {
   "cell_type": "code",
   "execution_count": 3,
   "metadata": {
    "colab": {},
    "colab_type": "code",
    "id": "lXg-VvqF79Oc"
   },
   "outputs": [],
   "source": [
    "def generator(batch_size=2):\n",
    "  \n",
    "  while(True):\n",
    "    idx=0\n",
    "    for X in glob.iglob(DATA_PATH + 'X_*.npy'):\n",
    "        print(idx)\n",
    "        name = X\n",
    "        X = np.load(X)\n",
    "        Y = np.load(name.replace('X','Y'))\n",
    "        x_train = X[:30]\n",
    "        Y = Y.reshape(1,64,64,64)\n",
    "        y_train = np.tile(Y,(30,1,1,1))\n",
    "        print(x_train.shape, y_train.shape)\n",
    "        x = x_train[idx:idx+batch_size]\n",
    "        y = y_train[idx:idx+batch_size]\n",
    "        x = x.reshape(batch_size,256,512,1)\n",
    "        y = y.reshape(batch_size,64,64,64,1)\n",
    "        idx=idx+batch_size\n",
    "        yield (x,y)"
   ]
  },
  {
   "cell_type": "code",
   "execution_count": 4,
   "metadata": {
    "colab": {},
    "colab_type": "code",
    "id": "v4gSGf2MRRF6"
   },
   "outputs": [],
   "source": [
    "filters_in = [32,64,96]\n",
    "kernel_size = [16,36,40]\n",
    "strides = (4,4,4)"
   ]
  },
  {
   "cell_type": "code",
   "execution_count": 5,
   "metadata": {
    "colab": {
     "base_uri": "https://localhost:8080/",
     "height": 680
    },
    "colab_type": "code",
    "id": "oD6WjFn7zZE7",
    "outputId": "734b4131-f06d-4ce6-fdcf-832c4ae98501"
   },
   "outputs": [
    {
     "name": "stdout",
     "output_type": "stream",
     "text": [
      "WARNING:tensorflow:From C:\\tools\\Anaconda3\\lib\\site-packages\\tensorflow\\python\\framework\\op_def_library.py:263: colocate_with (from tensorflow.python.framework.ops) is deprecated and will be removed in a future version.\n",
      "Instructions for updating:\n",
      "Colocations handled automatically by placer.\n",
      "_________________________________________________________________\n",
      "Layer (type)                 Output Shape              Param #   \n",
      "=================================================================\n",
      "input_1 (InputLayer)         (None, 256, 512, 1)       0         \n",
      "_________________________________________________________________\n",
      "conv2d_1 (Conv2D)            (None, 241, 497, 32)      8224      \n",
      "_________________________________________________________________\n",
      "max_pooling2d_1 (MaxPooling2 (None, 120, 248, 32)      0         \n",
      "_________________________________________________________________\n",
      "activation_1 (Activation)    (None, 120, 248, 32)      0         \n",
      "_________________________________________________________________\n",
      "conv2d_2 (Conv2D)            (None, 85, 213, 64)       2654272   \n",
      "_________________________________________________________________\n",
      "max_pooling2d_2 (MaxPooling2 (None, 42, 106, 64)       0         \n",
      "_________________________________________________________________\n",
      "activation_2 (Activation)    (None, 42, 106, 64)       0         \n",
      "_________________________________________________________________\n",
      "conv2d_3 (Conv2D)            (None, 3, 67, 96)         9830496   \n",
      "_________________________________________________________________\n",
      "max_pooling2d_3 (MaxPooling2 (None, 1, 33, 96)         0         \n",
      "_________________________________________________________________\n",
      "activation_3 (Activation)    (None, 1, 33, 96)         0         \n",
      "_________________________________________________________________\n",
      "flatten_1 (Flatten)          (None, 3168)              0         \n",
      "_________________________________________________________________\n",
      "dense_1 (Dense)              (None, 400)               1267600   \n",
      "_________________________________________________________________\n",
      "activation_4 (Activation)    (None, 400)               0         \n",
      "_________________________________________________________________\n",
      "dense_2 (Dense)              (None, 200)               80200     \n",
      "_________________________________________________________________\n",
      "activation_5 (Activation)    (None, 200)               0         \n",
      "_________________________________________________________________\n",
      "reshape_1 (Reshape)          (None, 1, 1, 1, 200)      0         \n",
      "=================================================================\n",
      "Total params: 13,840,792\n",
      "Trainable params: 13,840,792\n",
      "Non-trainable params: 0\n",
      "_________________________________________________________________\n"
     ]
    }
   ],
   "source": [
    "def encoder2D(kernel_size, strides):\n",
    "    inputs = Input(shape=(256,512,1))\n",
    "\n",
    "    g1 = Conv2D(filters=filters_in[0], kernel_size=kernel_size[0])(inputs)\n",
    "    g1 = MaxPooling2D(pool_size=2)(g1)\n",
    "    g1 = Activation(activation='relu')(g1)\n",
    "\n",
    "    g2 = Conv2D(filters=filters_in[1], kernel_size=kernel_size[1])(g1)\n",
    "    g2 = MaxPooling2D(pool_size=2)(g2)\n",
    "    g2 = Activation(activation='relu')(g2)\n",
    "\n",
    "    g3 = Conv2D(filters=filters_in[2], kernel_size=kernel_size[2])(g2)\n",
    "    g3 = MaxPooling2D(pool_size=2)(g3)\n",
    "    g3 = Activation(activation='relu')(g3)\n",
    "\n",
    "#     g4 = Conv2D(filters=filters_in[3], kernel_size=kernel_size[3])(g3)\n",
    "#     g4 = MaxPooling2D(pool_size=2)(g4)\n",
    "#     g4 = Activation(activation='relu')(g4)\n",
    "\n",
    "#     g5 = Conv2D(filters=filters_in[4], kernel_size=kernel_size[4])(g4)\n",
    "#     g5 = MaxPooling2D(pool_size=2)(g5)\n",
    "#     g5 = Activation(activation='sigmoid')(g5) \n",
    "    \n",
    "    g5 = Flatten()(g3)\n",
    "    \n",
    "    g6 = Dense(400,activation='sigmoid')(g5)\n",
    "    g6 = Activation(activation='sigmoid')(g6) \n",
    "    \n",
    "    g7 = Dense(200,activation='sigmoid')(g6)\n",
    "    g7 = Activation(activation='sigmoid')(g7) \n",
    "    \n",
    "    g8 = Reshape((1, 1,1,200), input_shape=(200,))(g7)\n",
    "    \n",
    "    \n",
    "    model = Model(inputs=inputs, outputs=g8)\n",
    "    model.summary()\n",
    "\n",
    "    return model \n",
    "encoder = encoder2D(kernel_size,strides)  \n"
   ]
  },
  {
   "cell_type": "code",
   "execution_count": 6,
   "metadata": {
    "colab": {
     "base_uri": "https://localhost:8080/",
     "height": 578
    },
    "colab_type": "code",
    "id": "RDkM5kFq28wg",
    "outputId": "2afba3c6-6a64-499e-fbb7-9367d887346f"
   },
   "outputs": [
    {
     "name": "stdout",
     "output_type": "stream",
     "text": [
      "_________________________________________________________________\n",
      "Layer (type)                 Output Shape              Param #   \n",
      "=================================================================\n",
      "input_2 (InputLayer)         (None, 1, 1, 1, 200)      0         \n",
      "_________________________________________________________________\n",
      "conv3d_transpose_1 (Conv3DTr (None, 4, 4, 4, 512)      6554112   \n",
      "_________________________________________________________________\n",
      "batch_normalization_1 (Batch (None, 4, 4, 4, 512)      2048      \n",
      "_________________________________________________________________\n",
      "activation_6 (Activation)    (None, 4, 4, 4, 512)      0         \n",
      "_________________________________________________________________\n",
      "conv3d_transpose_2 (Conv3DTr (None, 14, 14, 14, 256)   67109120  \n",
      "_________________________________________________________________\n",
      "batch_normalization_2 (Batch (None, 14, 14, 14, 256)   1024      \n",
      "_________________________________________________________________\n",
      "activation_7 (Activation)    (None, 14, 14, 14, 256)   0         \n",
      "_________________________________________________________________\n",
      "conv3d_transpose_3 (Conv3DTr (None, 45, 45, 45, 64)    536870976 \n",
      "_________________________________________________________________\n",
      "batch_normalization_3 (Batch (None, 45, 45, 45, 64)    256       \n",
      "_________________________________________________________________\n",
      "activation_8 (Activation)    (None, 45, 45, 45, 64)    0         \n",
      "_________________________________________________________________\n",
      "conv3d_transpose_4 (Conv3DTr (None, 64, 64, 64, 1)     512001    \n",
      "_________________________________________________________________\n",
      "batch_normalization_4 (Batch (None, 64, 64, 64, 1)     4         \n",
      "_________________________________________________________________\n",
      "activation_9 (Activation)    (None, 64, 64, 64, 1)     0         \n",
      "=================================================================\n",
      "Total params: 611,049,541\n",
      "Trainable params: 611,047,875\n",
      "Non-trainable params: 1,666\n",
      "_________________________________________________________________\n"
     ]
    }
   ],
   "source": [
    "kernel_size = [4,8,16,32,20]\n",
    "strides = (2,2,2)\n",
    "def decoder3D(kernel_size, strides):\n",
    "    inputs = Input(shape=(1, 1, 1, 200))\n",
    "\n",
    "    g1 = Deconv3D(filters=512, kernel_size=kernel_size[0],strides=strides)(inputs)\n",
    "    g1 = BatchNormalization()(g1)\n",
    "    g1 = Activation(activation='relu')(g1)\n",
    "\n",
    "    g2 = Deconv3D(filters=256, kernel_size=kernel_size[1],strides=strides)(g1)\n",
    "    g2 = BatchNormalization()(g2)\n",
    "    g2 = Activation(activation='relu')(g2)\n",
    "\n",
    "#     g3 = Deconv3D(filters=128, kernel_size=kernel_size[2],strides=strides)(g2)\n",
    "#     g3 = BatchNormalization()(g3)\n",
    "#     g3 = Activation(activation='relu')(g3)\n",
    "\n",
    "    g4 = Deconv3D(filters=64, kernel_size=kernel_size[3])(g2)\n",
    "    g4 = BatchNormalization()(g4)\n",
    "    g4 = Activation(activation='relu')(g4)\n",
    "\n",
    "    g5 = Deconv3D(filters=1, kernel_size=kernel_size[4])(g4)\n",
    "    g5 = BatchNormalization()(g5)\n",
    "    g5 = Activation(activation='sigmoid')(g5) \n",
    "\n",
    "    model = Model(inputs=inputs, outputs=g5)\n",
    "    model.summary()\n",
    "\n",
    "    return model \n",
    "decoder = decoder3D(kernel_size,strides)  "
   ]
  },
  {
   "cell_type": "code",
   "execution_count": 7,
   "metadata": {
    "colab": {
     "base_uri": "https://localhost:8080/",
     "height": 204
    },
    "colab_type": "code",
    "id": "kL7iHb6C14he",
    "outputId": "3f4179e7-be79-4980-be0c-d440683b45e2"
   },
   "outputs": [
    {
     "name": "stdout",
     "output_type": "stream",
     "text": [
      "_________________________________________________________________\n",
      "Layer (type)                 Output Shape              Param #   \n",
      "=================================================================\n",
      "model_1 (Model)              (None, 1, 1, 1, 200)      13840792  \n",
      "_________________________________________________________________\n",
      "model_2 (Model)              (None, 64, 64, 64, 1)     611049541 \n",
      "=================================================================\n",
      "Total params: 624,890,333\n",
      "Trainable params: 624,888,667\n",
      "Non-trainable params: 1,666\n",
      "_________________________________________________________________\n"
     ]
    }
   ],
   "source": [
    "def create_model():\n",
    "  model = Sequential()\n",
    "  model.add(encoder)\n",
    "  model.add(decoder)\n",
    "  model.summary()\n",
    "  model.compile(optimizer = 'adam', loss=['binary_crossentropy'], metrics=['mse'])\n",
    "  return model\n",
    "\n",
    "model = create_model()"
   ]
  },
  {
   "cell_type": "code",
   "execution_count": null,
   "metadata": {
    "colab": {
     "base_uri": "https://localhost:8080/",
     "height": 1989
    },
    "colab_type": "code",
    "id": "N_131bjQBZHq",
    "outputId": "0e13ff54-9634-493d-af70-d2facb3371b5",
    "scrolled": true
   },
   "outputs": [
    {
     "name": "stdout",
     "output_type": "stream",
     "text": [
      "WARNING:tensorflow:From C:\\tools\\Anaconda3\\lib\\site-packages\\tensorflow\\python\\ops\\math_ops.py:3066: to_int32 (from tensorflow.python.ops.math_ops) is deprecated and will be removed in a future version.\n",
      "Instructions for updating:\n",
      "Use tf.cast instead.\n",
      "Epoch 1/10\n",
      "0\n",
      "(30, 256, 512) (30, 64, 64, 64)\n",
      "4\n",
      "(30, 256, 512) (30, 64, 64, 64)\n",
      "8\n",
      "(30, 256, 512) (30, 64, 64, 64)\n",
      "12\n",
      "(30, 256, 512) (30, 64, 64, 64)\n",
      "16\n",
      "(30, 256, 512) (30, 64, 64, 64)\n",
      "20\n",
      "(30, 256, 512) (30, 64, 64, 64)\n",
      "24\n",
      "(30, 256, 512) (30, 64, 64, 64)\n",
      "28\n",
      "(30, 256, 512) (30, 64, 64, 64)\n"
     ]
    }
   ],
   "source": [
    "model.fit_generator(generator(4),verbose=1,steps_per_epoch=1,epochs =10)"
   ]
  },
  {
   "cell_type": "code",
   "execution_count": null,
   "metadata": {},
   "outputs": [],
   "source": []
  }
 ],
 "metadata": {
  "accelerator": "GPU",
  "colab": {
   "collapsed_sections": [],
   "name": "Shraddha_Test.ipynb",
   "provenance": [],
   "version": "0.3.2"
  },
  "kernelspec": {
   "display_name": "Python 3",
   "language": "python",
   "name": "python3"
  },
  "language_info": {
   "codemirror_mode": {
    "name": "ipython",
    "version": 3
   },
   "file_extension": ".py",
   "mimetype": "text/x-python",
   "name": "python",
   "nbconvert_exporter": "python",
   "pygments_lexer": "ipython3",
   "version": "3.7.3"
  }
 },
 "nbformat": 4,
 "nbformat_minor": 1
}
